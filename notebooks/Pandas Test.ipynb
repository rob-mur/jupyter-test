{
 "cells": [
  {
   "cell_type": "code",
   "execution_count": 1,
   "id": "c4b50522-d119-41f2-8e6f-f2c38699d455",
   "metadata": {},
   "outputs": [],
   "source": [
    "import pandas as pd"
   ]
  },
  {
   "cell_type": "code",
   "execution_count": 2,
   "id": "5bf62229-4dbc-4d34-a24d-f6445eb877a6",
   "metadata": {},
   "outputs": [],
   "source": [
    "df = pd.DataFrame(columns=['slug'])"
   ]
  },
  {
   "cell_type": "code",
   "execution_count": 3,
   "id": "752064a8-8edc-407e-a3cb-d850652840c1",
   "metadata": {},
   "outputs": [],
   "source": [
    "from xlwings import view"
   ]
  },
  {
   "cell_type": "code",
   "execution_count": 5,
   "id": "bd4981c1-4688-4f85-81dc-ca93ed3a9d7f",
   "metadata": {},
   "outputs": [],
   "source": [
    "view(df)"
   ]
  },
  {
   "cell_type": "code",
   "execution_count": null,
   "id": "d86bee88-5843-4a50-856d-eafcb7441996",
   "metadata": {},
   "outputs": [],
   "source": []
  },
  {
   "cell_type": "code",
   "execution_count": null,
   "id": "a66f6d2c-4014-4c4a-8ebf-83870128ff32",
   "metadata": {},
   "outputs": [],
   "source": []
  }
 ],
 "metadata": {
  "kernelspec": {
   "display_name": "Python 3 (ipykernel)",
   "language": "python",
   "name": "python3"
  },
  "language_info": {
   "codemirror_mode": {
    "name": "ipython",
    "version": 3
   },
   "file_extension": ".py",
   "mimetype": "text/x-python",
   "name": "python",
   "nbconvert_exporter": "python",
   "pygments_lexer": "ipython3",
   "version": "3.9.10"
  }
 },
 "nbformat": 4,
 "nbformat_minor": 5
}
